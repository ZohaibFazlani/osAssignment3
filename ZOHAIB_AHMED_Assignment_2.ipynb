{
  "nbformat": 4,
  "nbformat_minor": 0,
  "metadata": {
    "kernelspec": {
      "display_name": "Python 3",
      "language": "python",
      "name": "python3"
    },
    "language_info": {
      "codemirror_mode": {
        "name": "ipython",
        "version": 3
      },
      "file_extension": ".py",
      "mimetype": "text/x-python",
      "name": "python",
      "nbconvert_exporter": "python",
      "pygments_lexer": "ipython3",
      "version": "3.7.4"
    },
    "colab": {
      "name": "ZOHAIB AHMED - Assignment#2.ipynb",
      "provenance": [],
      "include_colab_link": true
    }
  },
  "cells": [
    {
      "cell_type": "markdown",
      "metadata": {
        "id": "view-in-github",
        "colab_type": "text"
      },
      "source": [
        "<a href=\"https://colab.research.google.com/github/ZohaibFazlani/osAssignment3/blob/master/ZOHAIB_AHMED_Assignment_2.ipynb\" target=\"_parent\"><img src=\"https://colab.research.google.com/assets/colab-badge.svg\" alt=\"Open In Colab\"/></a>"
      ]
    },
    {
      "cell_type": "markdown",
      "metadata": {
        "id": "azeBw97vqH9a",
        "colab_type": "text"
      },
      "source": [
        "# Applied Programming - Assginment of List and Tuples\n",
        "\n",
        "You need to edit it notebook with your answers and upload it on Goolge Classroom. Dont forget to hit the \"Turn In\" button.\n",
        "\n",
        "For this assignment, consider the following two tuples\n",
        "\n",
        "`u_poets` is the tuple having the names of poets in Urdu.\n",
        "\n",
        "`e_poets` is the tuple having the names of poets with English alphabets.\n",
        "\n",
        "The name of poets appearning are identical in the two lists.\n",
        "\n",
        "You are required to make a definition that takes two tuples, and returns a list of tuples after binding their respective items. For a more clear example, see the returned list below:\n",
        "\n",
        "With sample tuples\n",
        "\n",
        "`u_poets = ('غالب', 'اقبال', 'فیض', 'ناصر')`\n",
        "\n",
        "`e_poets = ('Ghalib', 'Iqbal', 'Faiz', 'Nasir')`\n",
        "\n",
        "The the returning list should be like:\n",
        "\n",
        "`joined_list = [ ('غالب','Ghalib'), ('اقبال','Iqbal'), ('فیض','Faiz'), ('ناصر','Nasir') ]`\n",
        "\n",
        "Limitiations: **NO built-in functions, such as `zip(...)` etc., are allowed**"
      ]
    },
    {
      "cell_type": "code",
      "metadata": {
        "id": "HX9drBNbzs1I",
        "colab_type": "code",
        "colab": {
          "base_uri": "https://localhost:8080/",
          "height": 54
        },
        "outputId": "03211d9a-7554-438c-f77a-d110583e5f50"
      },
      "source": [
        "u_poets = ('غالب', 'اقبال', 'فیض', 'ناصر', 'فراز', 'جون', 'آتش', 'چکبست', 'حالی', 'سودا', 'میر', 'مضطر', 'شکیب', 'ساحر', 'شکیل', 'مجروح', 'اختر', 'گلزار', 'امجد', 'ناز')\n",
        "e_poets = ('Ghalib', 'Iqbal', 'Faiz', 'Nasir', 'Faraz', 'Jon', 'Aatish', 'Chakbast', 'Haali', 'Sauda', 'Mir', 'Muztar', 'Shakeeb', 'Sahir', 'Shakil', 'Majrooh', 'Akhtar', 'Gulzar', 'Amjad', 'Naaz' )\n",
        "\n",
        "def merge(list1, list2): \n",
        "\t\n",
        "\tjoined_list = [(list1[i], list2[i]) for i in range(0, len(list1))] \n",
        "\treturn joined_list \n",
        "\t\n",
        "# Driver code \n",
        "list1 = [1, 2, 3] \n",
        "list2 = ['a', 'b', 'c'] \n",
        "print(merge(u_poets, e_poets))\n"
      ],
      "execution_count": 31,
      "outputs": [
        {
          "output_type": "stream",
          "text": [
            "[('غالب', 'Ghalib'), ('اقبال', 'Iqbal'), ('فیض', 'Faiz'), ('ناصر', 'Nasir'), ('فراز', 'Faraz'), ('جون', 'Jon'), ('آتش', 'Aatish'), ('چکبست', 'Chakbast'), ('حالی', 'Haali'), ('سودا', 'Sauda'), ('میر', 'Mir'), ('مضطر', 'Muztar'), ('شکیب', 'Shakeeb'), ('ساحر', 'Sahir'), ('شکیل', 'Shakil'), ('مجروح', 'Majrooh'), ('اختر', 'Akhtar'), ('گلزار', 'Gulzar'), ('امجد', 'Amjad'), ('ناز', 'Naaz')]\n"
          ],
          "name": "stdout"
        }
      ]
    }
  ]
}